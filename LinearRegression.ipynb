{
 "cells": [
  {
   "cell_type": "code",
   "execution_count": 1,
   "id": "50483dae",
   "metadata": {},
   "outputs": [],
   "source": [
    "# Import modules and libraries\n",
    "import numpy as np\n",
    "import matplotlib.pyplot as plt"
   ]
  },
  {
   "cell_type": "code",
   "execution_count": 2,
   "id": "289114f5",
   "metadata": {},
   "outputs": [
    {
     "name": "stdout",
     "output_type": "stream",
     "text": [
      "MSE: 0.33609839970702626\n",
      "Weight: [[-23.7241495 ]\n",
      " [  0.49930802]]\n"
     ]
    },
    {
     "data": {
      "image/png": "[encoded data removed]",
      "text/plain": [
       "<Figure size 432x288 with 1 Axes>"
      ]
     },
     "metadata": {
      "needs_background": "light"
     },
     "output_type": "display_data"
    }
   ],
   "source": [
    "# Training data\n",
    "N = 13 # number of samples\n",
    "X = np.array([147, 150, 153, 158, 163, 165, 168, 170, 173, 175, 178, 180, 183]).reshape(N, 1)\n",
    "Y = np.array([49, 50, 51,  54, 58, 59, 60, 62, 63, 64, 66, 67, 68]).reshape(N, 1)\n",
    "\n",
    "# Function to get the weight for prediction\n",
    "def getWeight(X, Y, learn_rate=1, number_of_iterations=100000):\n",
    "    # Create bar for X\n",
    "    Xbar = np.concatenate((np.ones((X.shape[0], 1)), X), axis=1)\n",
    "    XbarT = Xbar.T\n",
    "    \n",
    "    # In order to avoid large number in calculation, this below step is applied\n",
    "    max = Y[0]\n",
    "    max = getMax(Y, max)\n",
    "    max = getMax(X, max)\n",
    "    \n",
    "    Xbar = Xbar / max\n",
    "    XbarT = XbarT / max\n",
    "    Y = Y / max\n",
    "    \n",
    "    # Initialize Weight\n",
    "    W = np.ones((Xbar.shape[1], 1))\n",
    "    \n",
    "    # Update Weight\n",
    "    for i in range(number_of_iterations):\n",
    "        W = updateWeight(W, Xbar, XbarT, Y, learn_rate)\n",
    "    \n",
    "    return W\n",
    "\n",
    "# Function to update the weight for prediction\n",
    "def updateWeight(W, Xbar, XbarT, Y, learn_rate):\n",
    "    dW = XbarT @ (Xbar @ W - Y) / Y.shape[0] * learn_rate\n",
    "    return W - dW\n",
    "\n",
    "# Function to get MSE\n",
    "def getMSE(X, Y, W):\n",
    "    Xbar = np.concatenate((np.ones((X.shape[0], 1)), X), axis=1)\n",
    "    return 1 / (2 * X.shape[0]) * ((Xbar @ W - Y) ** 2).sum()\n",
    "\n",
    "# Function to get max element in a matrix (type of numpy.ndarray)\n",
    "def getMax(array, max):\n",
    "    for i in range(len(array)):\n",
    "        if(isinstance(array[i], np.ndarray)):\n",
    "            max = getMax(array[i], max)\n",
    "        else:\n",
    "            max = array[i] if array[i] > max else max\n",
    "    return max\n",
    "\n",
    "# Function to plot data\n",
    "def plot(X, Y, W, labelX=\"X\", labelY=\"Y\", title=\"Title\"):\n",
    "    Xbar = np.concatenate((np.ones((X.shape[0], 1)), X), axis=1)\n",
    "    plt.scatter(X, Y)\n",
    "    plt.plot(X, Xbar @ W, \"r\")\n",
    "    plt.xlabel(labelX)\n",
    "    plt.ylabel(labelY)\n",
    "    plt.title(title)\n",
    "    plt.show()\n",
    "    \n",
    "W = getWeight(X, Y, 2.3, 4000000)\n",
    "\n",
    "print(\"MSE: \" + str(getMSE(X, Y, W)))\n",
    "print(\"Weight: \" + str(W))\n",
    "plot(X, Y, W, \"Height\", \"Weight\", \"Final result\")\n",
    "\n"
   ]
  },
  {
   "cell_type": "code",
   "execution_count": null,
   "id": "8a0e5f7d",
   "metadata": {},
   "outputs": [],
   "source": []
  }
 ],
 "metadata": {
  "kernelspec": {
   "display_name": "Python 3 (ipykernel)",
   "language": "python",
   "name": "python3"
  },
  "language_info": {
   "codemirror_mode": {
    "name": "ipython",
    "version": 3
   },
   "file_extension": ".py",
   "mimetype": "text/x-python",
   "name": "python",
   "nbconvert_exporter": "python",
   "pygments_lexer": "ipython3",
   "version": "3.10.0"
  }
 },
 "nbformat": 4,
 "nbformat_minor": 5
}
